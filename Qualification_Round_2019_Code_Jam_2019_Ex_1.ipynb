{
  "nbformat": 4,
  "nbformat_minor": 0,
  "metadata": {
    "colab": {
      "name": "Qualification Round 2019 - Code Jam 2020 - Ex 1",
      "provenance": [],
      "authorship_tag": "ABX9TyOEuEQ4HfMLoQwF2OhsPsCl",
      "include_colab_link": true
    },
    "kernelspec": {
      "name": "python3",
      "display_name": "Python 3"
    }
  },
  "cells": [
    {
      "cell_type": "markdown",
      "metadata": {
        "id": "view-in-github",
        "colab_type": "text"
      },
      "source": [
        "<a href=\"https://colab.research.google.com/github/BrandaoEid/Google-Code-Jam/blob/master/Qualification_Round_2019_Code_Jam_2020_Ex_1.ipynb\" target=\"_parent\"><img src=\"https://colab.research.google.com/assets/colab-badge.svg\" alt=\"Open In Colab\"/></a>"
      ]
    },
    {
      "cell_type": "markdown",
      "metadata": {
        "id": "buG93ajaqLqn",
        "colab_type": "text"
      },
      "source": [
        "# Problem\n",
        "\n",
        "Someone just won the Code Jam lottery, and we owe them N jamcoins! However, when we tried to print out an oversized check, we encountered a problem. The value of N, which is an integer, includes at least one digit that is a 4... and the 4 key on the keyboard of our oversized check printer is broken.\n",
        "\n",
        "Fortunately, we have a workaround: we will send our winner two checks for positive integer amounts A and B, such that neither A nor B contains any digit that is a 4, and A + B = N. Please help us find any pair of values A and B that satisfy these conditions.\n",
        "\n",
        "Input\n",
        "\n",
        "The first line of the input gives the number of test cases, T. T test cases follow; each consists of one line with an integer N.\n",
        "\n",
        "Output\n",
        "\n",
        "For each test case, output one line containing Case #x: A B, where x is the test case number (starting from 1), and A and B are positive integers as described above.\n",
        "\n",
        "It is guaranteed that at least one solution exists. If there are multiple solutions, you may output any one of them. (See \"What if a test case has multiple correct solutions?\" in the Competing section of the FAQ. This information about multiple solutions will not be explicitly stated in the remainder of the 2019 contest.)\n",
        "\n",
        "Limits\n",
        "\n",
        "1 ≤ T ≤ 100.\n",
        "\n",
        "Time limit: 10 seconds per test set.\n",
        "\n",
        "Memory limit: 1GB.\n",
        "\n",
        "At least one of the digits of N is a 4.\n",
        "\n",
        "Test set 1 (Visible)\n",
        "\n",
        "1 < N < 105.\n",
        "\n",
        "Test set 2 (Visible)\n",
        "\n",
        "1 < N < 109.\n",
        "\n",
        "Solving the first two test sets for this problem should get you a long way toward advancing. The third test set is worth only 1 extra point, for extra fun and bragging rights!\n",
        "Test set 3 (Hidden)\n",
        "\n",
        "1 < N < 10100.\n",
        "Sample\n",
        "\n",
        "Input\n",
        "  \t\n",
        "Output\n",
        " \n",
        "\n",
        "3\n",
        "\n",
        "4\n",
        "\n",
        "940\n",
        "\n",
        "4444\n",
        "\n",
        "  \n",
        "\n",
        "\t\n",
        "\n",
        "Case #1: 2 2\n",
        "\n",
        "Case #2: 852 88\n",
        "\n",
        "Case #3: 667 3777\n",
        "\n",
        "  \n",
        "\n",
        "In Sample Case #1, notice that A and B can be the same. The only other possible answers are 1 3 and 3 1. "
      ]
    },
    {
      "cell_type": "markdown",
      "metadata": {
        "id": "ZszK90A_qjKr",
        "colab_type": "text"
      },
      "source": [
        "# Código"
      ]
    },
    {
      "cell_type": "code",
      "metadata": {
        "id": "sfbI9YnXqJxE",
        "colab_type": "code",
        "colab": {}
      },
      "source": [
        "def foregone_solution(case_num):\n",
        "    N = input()\n",
        "    A = ''\n",
        "    B = ''\n",
        "\n",
        "    for num in N:\n",
        "      if(int(num) == 4):\n",
        "        B = B + '1'\n",
        "      else:\n",
        "        B = B + '0'\n",
        "    \n",
        "    A = str(int(N) - int(B))\n",
        "    B = int(B)\n",
        "    print('Case #{}: {} {}'.format(case_num + 1,A,B))\n",
        "\n",
        "\n",
        "total_cases = int(input())\n",
        "for i in range(total_cases):\n",
        "    foregone_solution(i)"
      ],
      "execution_count": 0,
      "outputs": []
    }
  ]
}

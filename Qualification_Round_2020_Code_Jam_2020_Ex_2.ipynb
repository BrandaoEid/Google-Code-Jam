{
  "nbformat": 4,
  "nbformat_minor": 0,
  "metadata": {
    "colab": {
      "name": "Qualification_Round_2020_Code_Jam_2020_Ex_2.ipynb",
      "provenance": [],
      "authorship_tag": "ABX9TyPv3puqitJoGSpgsHcflRkw",
      "include_colab_link": true
    },
    "kernelspec": {
      "name": "python3",
      "display_name": "Python 3"
    }
  },
  "cells": [
    {
      "cell_type": "markdown",
      "metadata": {
        "id": "view-in-github",
        "colab_type": "text"
      },
      "source": [
        "<a href=\"https://colab.research.google.com/github/BrandaoEid/Google-Code-Jam/blob/master/Qualification_Round_2020_Code_Jam_2020_Ex_2.ipynb\" target=\"_parent\"><img src=\"https://colab.research.google.com/assets/colab-badge.svg\" alt=\"Open In Colab\"/></a>"
      ]
    },
    {
      "cell_type": "markdown",
      "metadata": {
        "id": "0JSHoqwB0H0K",
        "colab_type": "text"
      },
      "source": [
        "# Problem\n",
        "\n",
        "Given a string of digits S, insert a minimum number of opening and closing parentheses into it such that the resulting string is balanced and each digit d is inside exactly d pairs of matching parentheses.\n",
        "\n",
        "Let the nesting of two parentheses within a string be the substring that occurs strictly between them. An opening parenthesis and a closing parenthesis that is further to its right are said to match if their nesting is empty, or if every parenthesis in their nesting matches with another parenthesis in their nesting. The nesting depth of a position p is the number of pairs of matching parentheses m such that p is included in the nesting of m.\n",
        "\n",
        "For example, in the following strings, all digits match their nesting depth: 0((2)1), (((3))1(2)), ((((4)))), ((2))((2))(1). The first three strings have minimum length among those that have the same digits in the same order, but the last one does not since ((22)1) also has the digits 221 and is shorter.\n",
        "\n",
        "Given a string of digits S, find another string S', comprised of parentheses and digits, such that:\n",
        "\n",
        "    all parentheses in S' match some other parenthesis,\n",
        "    removing any and all parentheses from S' results in S,\n",
        "    each digit in S' is equal to its nesting depth, and\n",
        "    S' is of minimum length.\n",
        "\n",
        "Input\n",
        "\n",
        "The first line of the input gives the number of test cases, T. T lines follow. Each line represents a test case and contains only the string S.\n",
        "Output\n",
        "\n",
        "For each test case, output one line containing Case #x: y, where x is the test case number (starting from 1) and y is the string S' defined above.\n",
        "\n",
        "Limits\n",
        "\n",
        "Time limit: 20 seconds per test set.\n",
        "Memory limit: 1GB.\n",
        "1 ≤ T ≤ 100.\n",
        "1 ≤ length of S ≤ 100.\n",
        "Test set 1 (Visible Verdict)\n",
        "\n",
        "Each character in S is either 0 or 1.\n",
        "Test set 2 (Visible Verdict)\n",
        "\n",
        "Each character in S is a decimal digit between 0 and 9, inclusive.\n",
        "Sample\n",
        "\n",
        "Input\n",
        "  \t\n",
        "Output\n",
        " \n",
        "\n",
        "4\n",
        "0000\n",
        "101\n",
        "111000\n",
        "1\n",
        "\t\n",
        "\n",
        "Case #1: 0000\n",
        "Case #2: (1)0(1)\n",
        "Case #3: (111)000\n",
        "Case #4: (1)\n",
        "\n",
        "  \n",
        "\n",
        "The strings ()0000(), (1)0(((()))1) and (1)(11)000 are not valid solutions to Sample Cases #1, #2 and #3, respectively, only because they are not of minimum length. In addition, 1)( and )(1 are not valid solutions to Sample Case #4 because they contain unmatched parentheses and the nesting depth is 0 at the position where there is a 1.\n",
        "\n",
        "You can create sample inputs that are valid only for Test Set 2 by removing the parentheses from the example strings mentioned in the problem statement. "
      ]
    },
    {
      "cell_type": "markdown",
      "metadata": {
        "id": "r3AxwGz60TRr",
        "colab_type": "text"
      },
      "source": [
        "# Código"
      ]
    },
    {
      "cell_type": "code",
      "metadata": {
        "id": "R2fPiJ7uCVMu",
        "colab_type": "code",
        "colab": {}
      },
      "source": [
        "test_cases = int(input())\n",
        "string_p = ''\n",
        "open_p = 0\n",
        "\n",
        "for test in range(test_cases):\n",
        "  string = input()\n",
        "\n",
        "  for i in range(len(string)):\n",
        "    if int(string[i]) > open_p:\n",
        "      string_p = string_p + ((int(string[i]) - open_p) * \"(\") + string[i]\n",
        "      open_p = open_p + (int(string[i]) - open_p)\n",
        "    elif int(string[i]) == open_p:\n",
        "      string_p = string_p + string[i]\n",
        "    elif int(string[i]) < open_p:\n",
        "      string_p = string_p + ((open_p - int(string[i])) * \")\") + string[i]\n",
        "      open_p = open_p - ((open_p - int(string[i])))\n",
        "    \n",
        "  if open_p > 0:\n",
        "      string_p = string_p + (open_p * \")\")\n",
        "      open_p = 0\n",
        "\n",
        "  print('Case #{}: {}'.format(test + 1,string_p))\n",
        "  string_p = ''"
      ],
      "execution_count": 0,
      "outputs": []
    }
  ]
}
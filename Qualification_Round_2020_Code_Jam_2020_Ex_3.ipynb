{
  "nbformat": 4,
  "nbformat_minor": 0,
  "metadata": {
    "colab": {
      "name": "Qualification_Round_2020_Code_Jam_2020_Ex_3",
      "provenance": [],
      "authorship_tag": "ABX9TyMedfvUzxd0anLxeWI22Kx0",
      "include_colab_link": true
    },
    "kernelspec": {
      "name": "python3",
      "display_name": "Python 3"
    }
  },
  "cells": [
    {
      "cell_type": "markdown",
      "metadata": {
        "id": "view-in-github",
        "colab_type": "text"
      },
      "source": [
        "<a href=\"https://colab.research.google.com/github/BrandaoEid/Google-Code-Jam/blob/master/Qualification_Round_2020_Code_Jam_2020_Ex_3.ipynb\" target=\"_parent\"><img src=\"https://colab.research.google.com/assets/colab-badge.svg\" alt=\"Open In Colab\"/></a>"
      ]
    },
    {
      "cell_type": "markdown",
      "metadata": {
        "id": "i-LAtxV81Dvx",
        "colab_type": "text"
      },
      "source": [
        "# Problem\n",
        "\n",
        "Cameron and Jamie's kid is almost 3 years old! However, even though the child is more independent now, scheduling kid activities and domestic necessities is still a challenge for the couple.\n",
        "\n",
        "Cameron and Jamie have a list of N activities to take care of during the day. Each activity happens during a specified interval during the day. They need to assign each activity to one of them, so that neither of them is responsible for two activities that overlap. An activity that ends at time t is not considered to overlap with another activity that starts at time t.\n",
        "\n",
        "For example, suppose that Jamie and Cameron need to cover 3 activities: one running from 18:00 to 20:00, another from 19:00 to 21:00 and another from 22:00 to 23:00. One possibility would be for Jamie to cover the activity running from 19:00 to 21:00, with Cameron covering the other two. Another valid schedule would be for Cameron to cover the activity from 18:00 to 20:00 and Jamie to cover the other two. Notice that the first two activities overlap in the time between 19:00 and 20:00, so it is impossible to assign both of those activities to the same partner.\n",
        "\n",
        "Given the starting and ending times of each activity, find any schedule that does not require the same person to cover overlapping activities, or say that it is impossible.\n",
        "Input\n",
        "\n",
        "The first line of the input gives the number of test cases, T. T test cases follow. Each test case starts with a line containing a single integer N, the number of activities to assign. Then, N more lines follow. The i-th of these lines (counting starting from 1) contains two integers Si and Ei. The i-th activity starts exactly Si minutes after midnight and ends exactly Ei minutes after midnight.\n",
        "Output\n",
        "\n",
        "For each test case, output one line containing Case #x: y, where x is the test case number (starting from 1) and y is IMPOSSIBLE if there is no valid schedule according to the above rules, or a string of exactly N characters otherwise. The i-th character in y must be C if the i-th activity is assigned to Cameron in your proposed schedule, and J if it is assigned to Jamie.\n",
        "\n",
        "If there are multiple solutions, you may output any one of them. (See \"What if a test case has multiple correct solutions?\" in the Competing section of the FAQ. This information about multiple solutions will not be explicitly stated in the remainder of the 2020 contest.)\n",
        "\n",
        "Limits\n",
        "\n",
        "Time limit: 20 seconds per test set.\n",
        "Memory limit: 1GB.\n",
        "1 ≤ T ≤ 100.\n",
        "0 ≤ Si < Ei ≤ 24 × 60.\n",
        "Test set 1 (Visible Verdict)\n",
        "\n",
        "2 ≤ N ≤ 10.\n",
        "Test set 2 (Visible Verdict)\n",
        "\n",
        "2 ≤ N ≤ 1000.\n",
        "Sample\n",
        "\n",
        "Input\n",
        "  \t\n",
        "Output\n",
        " \n",
        "\n",
        "4\n",
        "\n",
        "3\n",
        "\n",
        "360 480\n",
        "420 540\n",
        "600 660\n",
        "\n",
        "3\n",
        "\n",
        "0 1440\n",
        "1 3\n",
        "2 4\n",
        "\n",
        "5\n",
        "\n",
        "99 150\n",
        "1 100\n",
        "100 301\n",
        "2 5\n",
        "150 250\n",
        "\n",
        "2\n",
        "\n",
        "0 720\n",
        "720 1440\n",
        "\n",
        "\t\n",
        "\n",
        "Case #1: CJC\n",
        "\n",
        "Case #2: IMPOSSIBLE\n",
        "\n",
        "Case #3: JCCJJ\n",
        "\n",
        "Case #4: CC\n",
        "\n",
        "  \n",
        "\n",
        "Sample Case #1 is the one described in the problem statement. As mentioned above, there are other valid solutions, like JCJ and JCC.\n",
        "\n",
        "In Sample Case #2, all three activities overlap with each other. Assigning them all would mean someone would end up with at least two overlapping activities, so there is no valid schedule.\n",
        "\n",
        "In Sample Case #3, notice that Cameron ends an activity and starts another one at minute 100.\n",
        "\n",
        "In Sample Case #4, any schedule would be valid. Specifically, it is OK for one partner to do all activities. "
      ]
    },
    {
      "cell_type": "markdown",
      "metadata": {
        "id": "ba29N1dB1Yms",
        "colab_type": "text"
      },
      "source": [
        "# Código"
      ]
    },
    {
      "cell_type": "code",
      "metadata": {
        "id": "P2DghlKFMkzU",
        "colab_type": "code",
        "outputId": "c0abd4e0-58ad-4bbc-fd0c-1e7b9dac2044",
        "colab": {
          "base_uri": "https://localhost:8080/",
          "height": 119
        }
      },
      "source": [
        "from operator import itemgetter\n",
        "\n",
        "test_cases = int(input())\n",
        "i = 0\n",
        "tasks = []\n",
        "c_l = 0\n",
        "j_l = 0\n",
        "schedule = ''\n",
        "\n",
        "\n",
        "for test in range(test_cases):\n",
        "  total_tasks = int(input())\n",
        "\n",
        "  while i < total_tasks:\n",
        "    tasks.append(list((map(int,input().split()))))\n",
        "    i = i + 1\n",
        "\n",
        "  orderedSchedule = [0 for i in range(len(tasks))]\n",
        "  tasks_sorted = sorted(tasks, key=itemgetter(0))\n",
        "\n",
        "  for task in tasks_sorted:\n",
        "    if c_l <= task[0]:\n",
        "      orderedSchedule[tasks.index(task)] = 'C'\n",
        "      c_l = task[1]\n",
        "    elif j_l <= task[0]:\n",
        "      orderedSchedule[tasks.index(task)] = 'J'\n",
        "      j_l = task[1]\n",
        "    else:\n",
        "      schedule = 'IMPOSSIBLE'\n",
        "      break\n",
        "\n",
        "  if schedule != 'IMPOSSIBLE':\n",
        "    schedule= ''\n",
        "    for element in orderedSchedule:\n",
        "        schedule += str(element)\n",
        "\n",
        "  print('Case #{}: {}'.format(test + 1, schedule))\n",
        "  i = 0\n",
        "  tasks = []\n",
        "  c_l = 0\n",
        "  j_l = 0\n",
        "  schedule = ''\n"
      ],
      "execution_count": 0,
      "outputs": [
        {
          "output_type": "stream",
          "text": [
            "1\n",
            "3\n",
            "100 200\n",
            "1 1000\n",
            "3 2000\n",
            "Case #1: IMPOSSIBLE\n"
          ],
          "name": "stdout"
        }
      ]
    }
  ]
}
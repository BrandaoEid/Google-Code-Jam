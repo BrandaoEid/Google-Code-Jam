{
  "nbformat": 4,
  "nbformat_minor": 0,
  "metadata": {
    "colab": {
      "name": "Qualification Round 2020 - Code Jam 2020 - Ex 1",
      "provenance": [],
      "authorship_tag": "ABX9TyPeOmwwtQg/jkmNToQmhVYW",
      "include_colab_link": true
    },
    "kernelspec": {
      "name": "python3",
      "display_name": "Python 3"
    }
  },
  "cells": [
    {
      "cell_type": "markdown",
      "metadata": {
        "id": "view-in-github",
        "colab_type": "text"
      },
      "source": [
        "<a href=\"https://colab.research.google.com/github/BrandaoEid/Google-Code-Jam/blob/master/Qualification_Round_2020_Code_Jam_2020_Ex_1.ipynb\" target=\"_parent\"><img src=\"https://colab.research.google.com/assets/colab-badge.svg\" alt=\"Open In Colab\"/></a>"
      ]
    },
    {
      "cell_type": "markdown",
      "metadata": {
        "id": "nQ_qmTryy4aO",
        "colab_type": "text"
      },
      "source": [
        "## Problem\n",
        "\n",
        "Vestigium means \"trace\" in Latin. In this problem we work with Latin squares and matrix traces.\n",
        "\n",
        "The trace of a square matrix is the sum of the values on the main diagonal (which runs from the upper left to the lower right).\n",
        "\n",
        "An N-by-N square matrix is a Latin square if each cell contains one of N different values, and no value is repeated within a row or a column. In this problem, we will deal only with \"natural Latin squares\" in which the N values are the integers between 1 and N.\n",
        "\n",
        "Given a matrix that contains only integers between 1 and N, we want to compute its trace and check whether it is a natural Latin square. To give some additional information, instead of simply telling us whether the matrix is a natural Latin square or not, please compute the number of rows and the number of columns that contain repeated values.\n",
        "Input\n",
        "\n",
        "The first line of the input gives the number of test cases, T. T test cases follow. Each starts with a line containing a single integer N: the size of the matrix to explore. Then, N lines follow. The i-th of these lines contains N integers Mi,1, Mi,2 ..., Mi,N. Mi,j is the integer in the i-th row and j-th column of the matrix.\n",
        "Output\n",
        "\n",
        "For each test case, output one line containing Case #x: k r c, where x is the test case number (starting from 1), k is the trace of the matrix, r is the number of rows of the matrix that contain repeated elements, and c is the number of columns of the matrix that contain repeated elements.\n",
        "\n",
        "Limits\n",
        "Test set 1 (Visible Verdict)\n",
        "\n",
        "Time limit: 20 seconds per test set.\n",
        "Memory limit: 1GB.\n",
        "\n",
        "1 ≤ T ≤ 100.\n",
        "\n",
        "2 ≤ N ≤ 100.\n",
        "\n",
        "1 ≤ Mi,j ≤ N, for all i, j.\n",
        "\n",
        "Sample\n",
        "\n",
        "Input\n",
        "  \t\n",
        "Output\n",
        " \n",
        "\n",
        "3\n",
        "\n",
        "4\n",
        "\n",
        "1 2 3 4\n",
        "2 1 4 3\n",
        "3 4 1 2\n",
        "4 3 2 1\n",
        "\n",
        "4\n",
        "\n",
        "2 2 2 2\n",
        "2 3 2 3\n",
        "2 2 2 3\n",
        "2 2 2 2\n",
        "\n",
        "3\n",
        "\n",
        "2 1 3\n",
        "1 3 2\n",
        "1 2 3\n",
        "\n",
        "Case #1: 4 0 0\n",
        "Case #2: 9 4 4\n",
        "Case #3: 8 0 2\n",
        "\n",
        "In Sample Case #1, the input is a natural Latin square, which means no row or column has repeated elements. All four values in the main diagonal are 1, and so the trace (their sum) is 4.\n",
        "\n",
        "In Sample Case #2, all rows and columns have repeated elements. Notice that each row or column with repeated elements is counted only once regardless of the number of elements that are repeated or how often they are repeated within the row or column. In addition, notice that some integers in the range 1 through N may be absent from the input.\n",
        "\n",
        "In Sample Case #3, the leftmost and rightmost columns have repeated elements. "
      ]
    },
    {
      "cell_type": "markdown",
      "metadata": {
        "id": "wmNvhUf6za8U",
        "colab_type": "text"
      },
      "source": [
        "# Código"
      ]
    },
    {
      "cell_type": "code",
      "metadata": {
        "id": "jXabzhUZoDKo",
        "colab_type": "code",
        "colab": {}
      },
      "source": [
        "import numpy as np\n",
        "\n",
        "total_tests = int(input())\n",
        "matrix_rows = []\n",
        "matrix_columns = []\n",
        "repeated_rows = 0\n",
        "repeated_columns = 0\n",
        "k = 0\n",
        "\n",
        "for test in range(total_tests):\n",
        "  matrix_size = int(input())\n",
        "  \n",
        "  for row in range(matrix_size):\n",
        "    matrix_rows.append(input().split())\n",
        "\n",
        "  # Diagonal sum\n",
        "  for pos in range(matrix_size):\n",
        "    k = k + int(matrix_rows[pos][pos])\n",
        "\n",
        "  # Check for repeated columns\n",
        "  for r in matrix_rows:\n",
        "    if len(set(r)) < matrix_size:\n",
        "      repeated_rows = repeated_rows + 1\n",
        "  \n",
        "  # Check for repeated columns\n",
        "  matrix_columns =  np.array(matrix_rows).T.tolist()\n",
        "  for c in matrix_columns:\n",
        "    if len(set(c)) < matrix_size:\n",
        "      repeated_columns = repeated_columns + 1\n",
        "    \n",
        "  print('Case #{}: {} {} {}'.format(test + 1, k, repeated_rows, repeated_columns))\n",
        "  matrix_rows = []\n",
        "  k = 0\n",
        "  repeated_rows = 0\n",
        "  repeated_columns = 0\n",
        "  "
      ],
      "execution_count": 0,
      "outputs": []
    }
  ]
}
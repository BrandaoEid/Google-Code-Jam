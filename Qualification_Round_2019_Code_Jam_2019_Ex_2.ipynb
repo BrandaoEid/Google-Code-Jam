{
  "nbformat": 4,
  "nbformat_minor": 0,
  "metadata": {
    "colab": {
      "name": "Qualification Round 2019 - Code Jam 2020 - Ex 2",
      "provenance": [],
      "authorship_tag": "ABX9TyOpJXG/kipmSA91Uu//4ybd",
      "include_colab_link": true
    },
    "kernelspec": {
      "name": "python3",
      "display_name": "Python 3"
    }
  },
  "cells": [
    {
      "cell_type": "markdown",
      "metadata": {
        "id": "view-in-github",
        "colab_type": "text"
      },
      "source": [
        "<a href=\"https://colab.research.google.com/github/BrandaoEid/Google-Code-Jam/blob/master/Qualification_Round_2019_Code_Jam_2019_Ex_2.ipynb\" target=\"_parent\"><img src=\"https://colab.research.google.com/assets/colab-badge.svg\" alt=\"Open In Colab\"/></a>"
      ]
    },
    {
      "cell_type": "code",
      "metadata": {
        "id": "pr93Qldbq4tX",
        "colab_type": "code",
        "colab": {}
      },
      "source": [
        ""
      ],
      "execution_count": 0,
      "outputs": []
    },
    {
      "cell_type": "markdown",
      "metadata": {
        "id": "tfS-OhMPq6nK",
        "colab_type": "text"
      },
      "source": [
        "#Problem\n",
        "\n",
        "You have just entered the world's easiest maze. You start in the northwest cell of an N by N grid of unit cells, and you must reach the southeast cell. You have only two types of moves available: a unit move to the east, and a unit move to the south. You can move into any cell, but you may not make a move that would cause you to leave the grid.\n",
        "\n",
        "You are excited to be the first in the world to solve the maze, but then you see footprints. Your rival, Labyrinth Lydia, has already solved the maze before you, using the same rules described above!\n",
        "\n",
        "As an original thinker, you do not want to reuse any of Lydia's moves. Specifically, if her path includes a unit move from some cell A to some adjacent cell B, your path cannot also include a move from A to B. (However, in that case, it is OK for your path to visit A or visit B, as long as you do not go from A to B.) Please find such a path.\n",
        "\n",
        "\n",
        "Input\n",
        "\n",
        "The first line of the input gives the number of test cases, T. T test cases follow; each case consists of two lines. The first line contains one integer N, giving the dimensions of the maze, as described above. The second line contains a string P of 2N - 2 characters, each of which is either uppercase E (for east) or uppercase S (for south), representing Lydia's valid path through the maze.\n",
        "\n",
        "Output\n",
        "\n",
        "For each test case, output one line containing Case #x: y, where x is the test case number (starting from 1) and y is a string of 2N - 2 characters each of which is either uppercase E (for east) or uppercase S (for south), representing your valid path through the maze that does not conflict with Lydia's path, as described above. It is guaranteed that at least one answer exists.\n",
        "\n",
        "Limits\n",
        "\n",
        "1 ≤ T ≤ 100.\n",
        "\n",
        "Time limit: 15 seconds per test set.\n",
        "\n",
        "Memory limit: 1GB.\n",
        "\n",
        "P contains exactly N - 1 E characters and exactly N - 1 S characters.\n",
        "\n",
        "Test set 1 (Visible)\n",
        "\n",
        "2 ≤ N ≤ 10.\n",
        "\n",
        "Test set 2 (Visible)\n",
        "\n",
        "2 ≤ N ≤ 1000.\n",
        "\n",
        "Test set 3 (Hidden)\n",
        "\n",
        "For at most 10 cases, 2 ≤ N ≤ 50000.\n",
        "\n",
        "For all other cases, 2 ≤ N ≤ 10000.\n",
        "\n",
        "Sample\n",
        "\n",
        "Input\n",
        "  \t\n",
        "Output\n",
        " \n",
        "2\n",
        "\n",
        "2\n",
        "\n",
        "SE\n",
        "\n",
        "5\n",
        "\n",
        "EESSSESE\n",
        "\n",
        "  \n",
        "\n",
        "\t\n",
        "\n",
        "Case #1: ES\n",
        "\n",
        "Case #2: SEEESSES\n",
        "\n",
        "  \n",
        "\n",
        "In Sample Case #1, the maze is so small that there is only one valid solution left for us.\n",
        "\n",
        "Sample Case #2 corresponds to the picture above. Notice that it is acceptable for the paths to cross. "
      ]
    },
    {
      "cell_type": "markdown",
      "metadata": {
        "id": "sNqWOtjtsDCq",
        "colab_type": "text"
      },
      "source": [
        "# Código"
      ]
    },
    {
      "cell_type": "code",
      "metadata": {
        "id": "_XiuRDobrE0J",
        "colab_type": "code",
        "colab": {}
      },
      "source": [
        "def maze_solution(case):\n",
        "  maze_size = input()\n",
        "  maze_direction = input()\n",
        "  inverse_direction = ''\n",
        "\n",
        "  for direction in maze_direction:\n",
        "    if direction == 'S':\n",
        "      inverse_direction = inverse_direction + 'E'\n",
        "    else:\n",
        "      inverse_direction = inverse_direction + 'S'\n",
        "\n",
        "  print('Case #{}: {}'.format(case + 1,inverse_direction))\n",
        "\n",
        "\n",
        "\n",
        "total_cases = int(input())\n",
        "for i in range(total_cases):\n",
        "    maze_solution(i)"
      ],
      "execution_count": 0,
      "outputs": []
    }
  ]
}